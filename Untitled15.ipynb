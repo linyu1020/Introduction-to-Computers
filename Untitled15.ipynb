{
  "nbformat": 4,
  "nbformat_minor": 0,
  "metadata": {
    "colab": {
      "provenance": [],
      "authorship_tag": "ABX9TyPUKHZBHbCjmNL97HWBgaTx",
      "include_colab_link": true
    },
    "kernelspec": {
      "name": "python3",
      "display_name": "Python 3"
    },
    "language_info": {
      "name": "python"
    }
  },
  "cells": [
    {
      "cell_type": "markdown",
      "metadata": {
        "id": "view-in-github",
        "colab_type": "text"
      },
      "source": [
        "<a href=\"https://colab.research.google.com/github/linyu1020/Introduction-to-Computers/blob/main/Untitled15.ipynb\" target=\"_parent\"><img src=\"https://colab.research.google.com/assets/colab-badge.svg\" alt=\"Open In Colab\"/></a>"
      ]
    },
    {
      "cell_type": "code",
      "execution_count": null,
      "metadata": {
        "id": "2CumvozCx--A",
        "colab": {
          "base_uri": "https://localhost:8080/"
        },
        "outputId": "bee58dba-205e-45ab-9566-673b9f216cad"
      },
      "outputs": [
        {
          "output_type": "stream",
          "name": "stdout",
          "text": [
            "0517\n"
          ]
        }
      ],
      "source": [
        "print(\"0517\")"
      ]
    },
    {
      "cell_type": "code",
      "source": [
        "score = int(input(\"score:\"))\n",
        "if score >= 90:\n",
        "  print('Grade is: A')\n",
        "elif score >= 80:\n",
        "  print('Grade is: B')\n",
        "elif score >= 70:\n",
        "  print('Grade is: C')\n",
        "elif score >= 60:\n",
        "  print('Grade is: D')\n",
        "else:\n",
        "  print('Grade is: F')"
      ],
      "metadata": {
        "colab": {
          "base_uri": "https://localhost:8080/"
        },
        "id": "1FBkaT_qzFEs",
        "outputId": "e2235458-57b8-4829-d8d3-e9ab79198e46"
      },
      "execution_count": null,
      "outputs": [
        {
          "output_type": "stream",
          "name": "stdout",
          "text": [
            "score:70\n",
            "Grade is: C\n"
          ]
        }
      ]
    },
    {
      "cell_type": "code",
      "source": [
        "t = int(input(\"t\"))\n",
        "if t >= 37.5:\n",
        "  print(\"體溫過高\")\n",
        "elif t > 36.9 and t < 37.5:\n",
        "  print(\"體溫略高\")\n",
        "elif t > 33.9 and t < 37:\n",
        "  print(\"體溫正常\")\n",
        "else: \n",
        "  print(\"體溫異常，請重測\")\n",
        "\n"
      ],
      "metadata": {
        "colab": {
          "base_uri": "https://localhost:8080/"
        },
        "id": "ebAcG4cn0cfY",
        "outputId": "5c8b16bb-c924-46c3-b971-f16462cfcc45"
      },
      "execution_count": null,
      "outputs": [
        {
          "output_type": "stream",
          "name": "stdout",
          "text": [
            "t33\n",
            "體溫異常，請重測\n"
          ]
        }
      ]
    },
    {
      "cell_type": "code",
      "source": [
        "grade = int(input(\"grade\"))\n",
        "if grade >= 90:\n",
        "  print(\"A\")\n",
        "elif grade >= 80:\n",
        "  print(\"B\")\n",
        "elif grade >= 70:\n",
        "  print(\"C\")\n",
        "elif grade >= 60:\n",
        "  print(\"D\")\n",
        "else:\n",
        "  print(\"E\")\n",
        "  "
      ],
      "metadata": {
        "colab": {
          "base_uri": "https://localhost:8080/"
        },
        "id": "p5QTPd7I3oWw",
        "outputId": "be828e89-be40-412b-cb26-a6d2487d970a"
      },
      "execution_count": null,
      "outputs": [
        {
          "output_type": "stream",
          "name": "stdout",
          "text": [
            "grade86\n",
            "B\n"
          ]
        }
      ]
    },
    {
      "cell_type": "code",
      "source": [
        "money = int(input(\"請輸入今年收入淨額\"))\n",
        "if money >= 2000000:\n",
        "  print(\"付稅金額\",money*0.3)\n",
        "elif money >= 1000000:\n",
        "  print(\"付稅金額\",money*0.21)\n",
        "elif money >= 600000:\n",
        "  print(\"付稅金額\",money*0.13)\n",
        "elif money >= 300000:\n",
        "  print(\"付稅金額\",money*0.06)\n",
        "else:\n",
        "  print(\"付稅金額\",money*0)\n"
      ],
      "metadata": {
        "colab": {
          "base_uri": "https://localhost:8080/"
        },
        "id": "8MIoIWGp4j1P",
        "outputId": "832e73b5-a355-448b-a174-82bd041ba9b1"
      },
      "execution_count": null,
      "outputs": [
        {
          "output_type": "stream",
          "name": "stdout",
          "text": [
            "請輸入今年收入淨額100000\n",
            "付稅金額 0\n"
          ]
        }
      ]
    },
    {
      "cell_type": "code",
      "source": [
        "month = int(input(\"請輸入一個月份:\"))\n",
        "if month < 4:\n",
        "  print(\"春季\")\n",
        "elif month > 3 and month < 7:\n",
        "  print(\"夏季\")\n",
        "elif month > 6 and month < 10:\n",
        "  print(\"秋季\")\n",
        "elif month > 9 and month < 13:\n",
        "  print(\"冬季\")\n",
        "else:\n",
        "  print(\"月份不再範圍內\")"
      ],
      "metadata": {
        "id": "kYRf3DG-3E9C",
        "colab": {
          "base_uri": "https://localhost:8080/"
        },
        "outputId": "48de9418-5d91-491d-d428-8de67c8466b1"
      },
      "execution_count": null,
      "outputs": [
        {
          "output_type": "stream",
          "name": "stdout",
          "text": [
            "請輸入一個月份:13\n",
            "月份不再範圍內\n"
          ]
        }
      ]
    },
    {
      "cell_type": "code",
      "source": [
        "rain=int(input(\"今天下雨機率幾%?\"))\n",
        "if rain >= 40:\n",
        "  print(\"出門記得帶傘!\")\n",
        "else:\n",
        "  print(\"不用帶傘\")"
      ],
      "metadata": {
        "id": "ubeRpTyC7WOm",
        "colab": {
          "base_uri": "https://localhost:8080/"
        },
        "outputId": "f1506bd3-8450-4679-baf6-90c5f78e0e60"
      },
      "execution_count": 27,
      "outputs": [
        {
          "output_type": "stream",
          "name": "stdout",
          "text": [
            "今天下雨機率幾%?40\n",
            "出門記得帶傘!\n"
          ]
        }
      ]
    }
  ]
}
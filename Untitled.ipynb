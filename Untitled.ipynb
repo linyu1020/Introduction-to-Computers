{
  "nbformat": 4,
  "nbformat_minor": 0,
  "metadata": {
    "colab": {
      "provenance": [],
      "authorship_tag": "ABX9TyNfbyPZjXr5cRSNOgenxG6n",
      "include_colab_link": true
    },
    "kernelspec": {
      "name": "python3",
      "display_name": "Python 3"
    },
    "language_info": {
      "name": "python"
    }
  },
  "cells": [
    {
      "cell_type": "markdown",
      "metadata": {
        "id": "view-in-github",
        "colab_type": "text"
      },
      "source": [
        "<a href=\"https://colab.research.google.com/github/linyu1020/Introduction-to-Computers/blob/main/Untitled.ipynb\" target=\"_parent\"><img src=\"https://colab.research.google.com/assets/colab-badge.svg\" alt=\"Open In Colab\"/></a>"
      ]
    },
    {
      "cell_type": "code",
      "execution_count": null,
      "metadata": {
        "colab": {
          "base_uri": "https://localhost:8080/"
        },
        "id": "0KWkr4FGmhBs",
        "outputId": "1ec97176-2aca-42e7-9924-8ad14a9d093f"
      },
      "outputs": [
        {
          "output_type": "stream",
          "name": "stdout",
          "text": [
            "請輸入一個正整數:13\n",
            "1 2 3 4 5 6 7 8 9 10 11 12 13 "
          ]
        }
      ],
      "source": [
        "num =int(input(\"請輸入一個正整數:\"))\n",
        "for i in range(1, num+1):\n",
        "  print(i, end=' ')\n"
      ]
    },
    {
      "cell_type": "code",
      "source": [
        "n = int(input(\"請輸入一個正整數:\"))\n",
        "total = 0\n",
        "for i in range(1, n+1):\n",
        "  total += i\n",
        "  p_sum = sum(range(1, i+1))\n",
        "  print(\"1到%d的總和為:%d,\" %(i, p_sum))"
      ],
      "metadata": {
        "id": "Xjz6TOChq7fg",
        "colab": {
          "base_uri": "https://localhost:8080/"
        },
        "outputId": "4f01d940-9683-4a36-84ff-f2b2748b2779"
      },
      "execution_count": 4,
      "outputs": [
        {
          "output_type": "stream",
          "name": "stdout",
          "text": [
            "請輸入一個正整數:8\n",
            "1到1的總和為:1,\n",
            "1到2的總和為:3,\n",
            "1到3的總和為:6,\n",
            "1到4的總和為:10,\n",
            "1到5的總和為:15,\n",
            "1到6的總和為:21,\n",
            "1到7的總和為:28,\n",
            "1到8的總和為:36,\n"
          ]
        }
      ]
    },
    {
      "cell_type": "code",
      "source": [
        "n =int(input(\"請輸入一個正整數:\"))\n",
        "for i in range(1, n+1):\n",
        "  for j in range(i):\n",
        "    print(\"*\", end=\" \")\n",
        "  print()"
      ],
      "metadata": {
        "colab": {
          "base_uri": "https://localhost:8080/"
        },
        "id": "aJqlDSIasal_",
        "outputId": "f800c0a0-fa3c-422d-8238-27c0822fb9e0"
      },
      "execution_count": 7,
      "outputs": [
        {
          "output_type": "stream",
          "name": "stdout",
          "text": [
            "請輸入一個正整數:5\n",
            "* \n",
            "* * \n",
            "* * * \n",
            "* * * * \n",
            "* * * * * \n"
          ]
        }
      ]
    },
    {
      "cell_type": "code",
      "source": [
        "n =int(input(\"請輸入一個正整數:\"))\n",
        "for i in range(1, n+1):\n",
        "  for j in range(i):\n",
        "    print(j+1, end=\" \")\n",
        "  print()"
      ],
      "metadata": {
        "colab": {
          "base_uri": "https://localhost:8080/"
        },
        "id": "vINuMe_FtOWE",
        "outputId": "491b090d-4b28-4e03-cee2-eca2d0c8c17a"
      },
      "execution_count": 9,
      "outputs": [
        {
          "output_type": "stream",
          "name": "stdout",
          "text": [
            "請輸入一個正整數:5\n",
            "1 \n",
            "1 2 \n",
            "1 2 3 \n",
            "1 2 3 4 \n",
            "1 2 3 4 5 \n"
          ]
        }
      ]
    },
    {
      "cell_type": "code",
      "source": [
        "a = input(\"請輸入字串:\")\n",
        "for i in range(len(a)):\n",
        "  if (i % 2 != 0):\n",
        "    print(a[i].upper(),end=\" \")\n",
        "  else:\n",
        "     print(a[i].lower(),end=\" \")\n"
      ],
      "metadata": {
        "colab": {
          "base_uri": "https://localhost:8080/"
        },
        "id": "XlpQeA7ptnMz",
        "outputId": "d45b5c7b-cf62-4562-f2de-4a0192294860"
      },
      "execution_count": 10,
      "outputs": [
        {
          "output_type": "stream",
          "name": "stdout",
          "text": [
            "請輸入字串:panda\n",
            "p A n D a "
          ]
        }
      ]
    }
  ]
}